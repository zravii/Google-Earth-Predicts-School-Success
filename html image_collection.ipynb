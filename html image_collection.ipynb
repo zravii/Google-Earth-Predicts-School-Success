{
 "cells": [
  {
   "cell_type": "markdown",
   "id": "095debe2",
   "metadata": {},
   "source": [
    "# HTML to Screenshot jpg\n",
    "\n",
    "This notebook serves to take the geemap html files of school locations, open them, take a screenshot of the contents, and return the screenshot as a jpg"
   ]
  },
  {
   "cell_type": "code",
   "execution_count": 1,
   "id": "cccd6269",
   "metadata": {
    "ExecuteTime": {
     "end_time": "2023-12-06T02:57:23.905959Z",
     "start_time": "2023-12-06T02:57:22.736599Z"
    }
   },
   "outputs": [],
   "source": [
    "import requests as req\n",
    "import glob\n",
    "import webbrowser\n",
    "import urllib\n",
    "import pyautogui\n",
    "import time\n",
    "import winsound"
   ]
  },
  {
   "cell_type": "markdown",
   "id": "9d06c303",
   "metadata": {},
   "source": [
    "# Here is the data downloaded from the google colab file - final project"
   ]
  },
  {
   "cell_type": "code",
   "execution_count": 4,
   "id": "d11cb64d",
   "metadata": {
    "ExecuteTime": {
     "end_time": "2023-12-06T04:56:59.341606Z",
     "start_time": "2023-12-06T04:56:59.300826Z"
    }
   },
   "outputs": [
    {
     "name": "stdout",
     "output_type": "stream",
     "text": [
      "1222\n"
     ]
    },
    {
     "data": {
      "text/plain": [
       "['C:\\\\Users\\\\lvden\\\\OneDrive - Montana State University\\\\Desktop\\\\DeepLearning\\\\final_project\\\\img_data-20231201T222346Z-001\\\\img_data_html\\\\small\\\\small\\\\small__60000103278.html',\n",
       " 'C:\\\\Users\\\\lvden\\\\OneDrive - Montana State University\\\\Desktop\\\\DeepLearning\\\\final_project\\\\img_data-20231201T222346Z-001\\\\img_data_html\\\\small\\\\small\\\\small__60000113829.html',\n",
       " 'C:\\\\Users\\\\lvden\\\\OneDrive - Montana State University\\\\Desktop\\\\DeepLearning\\\\final_project\\\\img_data-20231201T222346Z-001\\\\img_data_html\\\\small\\\\small\\\\small__60000908779.html',\n",
       " 'C:\\\\Users\\\\lvden\\\\OneDrive - Montana State University\\\\Desktop\\\\DeepLearning\\\\final_project\\\\img_data-20231201T222346Z-001\\\\img_data_html\\\\small\\\\small\\\\small__60001109065.html',\n",
       " 'C:\\\\Users\\\\lvden\\\\OneDrive - Montana State University\\\\Desktop\\\\DeepLearning\\\\final_project\\\\img_data-20231201T222346Z-001\\\\img_data_html\\\\small\\\\small\\\\small__60001302405.html',\n",
       " 'C:\\\\Users\\\\lvden\\\\OneDrive - Montana State University\\\\Desktop\\\\DeepLearning\\\\final_project\\\\img_data-20231201T222346Z-001\\\\img_data_html\\\\small\\\\small\\\\small__60001311010.html',\n",
       " 'C:\\\\Users\\\\lvden\\\\OneDrive - Montana State University\\\\Desktop\\\\DeepLearning\\\\final_project\\\\img_data-20231201T222346Z-001\\\\img_data_html\\\\small\\\\small\\\\small__60001312390.html',\n",
       " 'C:\\\\Users\\\\lvden\\\\OneDrive - Montana State University\\\\Desktop\\\\DeepLearning\\\\final_project\\\\img_data-20231201T222346Z-001\\\\img_data_html\\\\small\\\\small\\\\small__60001405093.html',\n",
       " 'C:\\\\Users\\\\lvden\\\\OneDrive - Montana State University\\\\Desktop\\\\DeepLearning\\\\final_project\\\\img_data-20231201T222346Z-001\\\\img_data_html\\\\small\\\\small\\\\small__60001409072.html',\n",
       " 'C:\\\\Users\\\\lvden\\\\OneDrive - Montana State University\\\\Desktop\\\\DeepLearning\\\\final_project\\\\img_data-20231201T222346Z-001\\\\img_data_html\\\\small\\\\small\\\\small__60001411118.html']"
      ]
     },
     "execution_count": 4,
     "metadata": {},
     "output_type": "execute_result"
    }
   ],
   "source": [
    "small_data = glob.glob(\"C:\\\\Users\\\\lvden\\OneDrive - Montana State University\\\\Desktop\\\\DeepLearning\\\\final_project\\\\img_data-20231201T222346Z-001\\\\img_data_html\\\\small\\\\small\\\\*\")\n",
    "small_data_sub = small_data[0:10]\n",
    "print(len(small_data))\n",
    "small_data[0:10]\n"
   ]
  },
  {
   "cell_type": "code",
   "execution_count": 5,
   "id": "811e6535",
   "metadata": {
    "ExecuteTime": {
     "end_time": "2023-12-06T04:57:06.098351Z",
     "start_time": "2023-12-06T04:57:06.071352Z"
    }
   },
   "outputs": [
    {
     "name": "stdout",
     "output_type": "stream",
     "text": [
      "1222\n"
     ]
    },
    {
     "data": {
      "text/plain": [
       "['C:\\\\Users\\\\lvden\\\\OneDrive - Montana State University\\\\Desktop\\\\DeepLearning\\\\final_project\\\\img_data-20231201T222346Z-001\\\\img_data_html\\\\large\\\\large\\\\large__60000103278.html',\n",
       " 'C:\\\\Users\\\\lvden\\\\OneDrive - Montana State University\\\\Desktop\\\\DeepLearning\\\\final_project\\\\img_data-20231201T222346Z-001\\\\img_data_html\\\\large\\\\large\\\\large__60000113829.html',\n",
       " 'C:\\\\Users\\\\lvden\\\\OneDrive - Montana State University\\\\Desktop\\\\DeepLearning\\\\final_project\\\\img_data-20231201T222346Z-001\\\\img_data_html\\\\large\\\\large\\\\large__60000908779.html',\n",
       " 'C:\\\\Users\\\\lvden\\\\OneDrive - Montana State University\\\\Desktop\\\\DeepLearning\\\\final_project\\\\img_data-20231201T222346Z-001\\\\img_data_html\\\\large\\\\large\\\\large__60001109065.html',\n",
       " 'C:\\\\Users\\\\lvden\\\\OneDrive - Montana State University\\\\Desktop\\\\DeepLearning\\\\final_project\\\\img_data-20231201T222346Z-001\\\\img_data_html\\\\large\\\\large\\\\large__60001302405.html']"
      ]
     },
     "execution_count": 5,
     "metadata": {},
     "output_type": "execute_result"
    }
   ],
   "source": [
    "large_data = glob.glob(\"C:\\\\Users\\\\lvden\\OneDrive - Montana State University\\\\Desktop\\\\DeepLearning\\\\final_project\\\\img_data-20231201T222346Z-001\\\\img_data_html\\\\large\\\\large\\\\*\")\n",
    "large_data_sub = large_data[0:10]\n",
    "print(len(large_data))\n",
    "large_data[0:5]"
   ]
  },
  {
   "cell_type": "code",
   "execution_count": null,
   "id": "aca02a90",
   "metadata": {
    "ExecuteTime": {
     "end_time": "2023-12-04T20:31:36.398832Z",
     "start_time": "2023-12-04T20:31:36.380603Z"
    }
   },
   "outputs": [],
   "source": []
  },
  {
   "cell_type": "markdown",
   "id": "22f0d9d9",
   "metadata": {
    "ExecuteTime": {
     "end_time": "2023-12-04T20:30:57.483124Z",
     "start_time": "2023-12-04T20:30:23.980749Z"
    }
   },
   "source": [
    "# loop to go through all html files in the folder and can have the gui package move my mouse to close the THIRD tab"
   ]
  },
  {
   "cell_type": "code",
   "execution_count": 7,
   "id": "559983a2",
   "metadata": {
    "ExecuteTime": {
     "end_time": "2023-12-06T09:25:46.213832Z",
     "start_time": "2023-12-06T04:58:23.082295Z"
    }
   },
   "outputs": [
    {
     "name": "stdout",
     "output_type": "stream",
     "text": [
      "do you have two tabs open and the third tab is free?\n"
     ]
    },
    {
     "ename": "OSError",
     "evalue": "[Errno 28] No space left on device",
     "output_type": "error",
     "traceback": [
      "\u001b[1;31m---------------------------------------------------------------------------\u001b[0m",
      "\u001b[1;31mOSError\u001b[0m                                   Traceback (most recent call last)",
      "Cell \u001b[1;32mIn[7], line 31\u001b[0m\n\u001b[0;32m     28\u001b[0m myScreenshot \u001b[38;5;241m=\u001b[39m pyautogui\u001b[38;5;241m.\u001b[39mscreenshot(region\u001b[38;5;241m=\u001b[39m(\u001b[38;5;241m20\u001b[39m,\u001b[38;5;241m150\u001b[39m,\u001b[38;5;241m1890\u001b[39m,\u001b[38;5;241m755\u001b[39m))\n\u001b[0;32m     30\u001b[0m school_name \u001b[38;5;241m=\u001b[39m file\u001b[38;5;241m.\u001b[39msplit(\u001b[38;5;124m'\u001b[39m\u001b[38;5;130;01m\\\\\u001b[39;00m\u001b[38;5;124m'\u001b[39m)[\u001b[38;5;241m-\u001b[39m\u001b[38;5;241m1\u001b[39m]\u001b[38;5;241m.\u001b[39msplit(\u001b[38;5;124m'\u001b[39m\u001b[38;5;124m.\u001b[39m\u001b[38;5;124m'\u001b[39m)[\u001b[38;5;241m0\u001b[39m]\n\u001b[1;32m---> 31\u001b[0m \u001b[43mmyScreenshot\u001b[49m\u001b[38;5;241;43m.\u001b[39;49m\u001b[43msave\u001b[49m\u001b[43m(\u001b[49m\u001b[38;5;124;43mr\u001b[39;49m\u001b[38;5;124;43m\"\u001b[39;49m\u001b[38;5;124;43mC:\u001b[39;49m\u001b[38;5;130;43;01m\\\\\u001b[39;49;00m\u001b[38;5;124;43mUsers\u001b[39;49m\u001b[38;5;130;43;01m\\\\\u001b[39;49;00m\u001b[38;5;124;43mlvden\u001b[39;49m\u001b[38;5;130;43;01m\\\\\u001b[39;49;00m\u001b[38;5;124;43mOneDrive - Montana State University\u001b[39;49m\u001b[38;5;130;43;01m\\\\\u001b[39;49;00m\u001b[38;5;124;43mDesktop\u001b[39;49m\u001b[38;5;130;43;01m\\\\\u001b[39;49;00m\u001b[38;5;124;43mDeepLearning\u001b[39;49m\u001b[38;5;130;43;01m\\\\\u001b[39;49;00m\u001b[38;5;124;43mfinal_project\u001b[39;49m\u001b[38;5;130;43;01m\\\\\u001b[39;49;00m\u001b[38;5;124;43mimg_data-20231201T222346Z-001\u001b[39;49m\u001b[38;5;130;43;01m\\\\\u001b[39;49;00m\u001b[38;5;124;43mimg_data_screenshots\u001b[39;49m\u001b[38;5;130;43;01m\\\\\u001b[39;49;00m\u001b[38;5;124;43mlarge\u001b[39;49m\u001b[38;5;130;43;01m\\\\\u001b[39;49;00m\u001b[38;5;124;43m\"\u001b[39;49m\u001b[43m \u001b[49m\u001b[38;5;241;43m+\u001b[39;49m\u001b[43m \u001b[49m\u001b[43mschool_name\u001b[49m\u001b[43m \u001b[49m\u001b[38;5;241;43m+\u001b[39;49m\u001b[43m \u001b[49m\u001b[38;5;28;43mformat\u001b[39;49m\u001b[43m(\u001b[49m\u001b[43mi\u001b[49m\u001b[43m)\u001b[49m\u001b[43m \u001b[49m\u001b[38;5;241;43m+\u001b[39;49m\u001b[38;5;124;43m'\u001b[39;49m\u001b[38;5;124;43m.jpg\u001b[39;49m\u001b[38;5;124;43m'\u001b[39;49m\u001b[43m)\u001b[49m\n\u001b[0;32m     33\u001b[0m \u001b[38;5;66;03m### Move mouse to close the tab that was opened for the html file\u001b[39;00m\n\u001b[0;32m     34\u001b[0m pyautogui\u001b[38;5;241m.\u001b[39mmoveTo(x\u001b[38;5;241m=\u001b[39m\u001b[38;5;241m822\u001b[39m, y\u001b[38;5;241m=\u001b[39m\u001b[38;5;241m40\u001b[39m)\n",
      "File \u001b[1;32m~\\AppData\\Roaming\\Python\\Python38\\site-packages\\PIL\\Image.py:2431\u001b[0m, in \u001b[0;36mImage.save\u001b[1;34m(self, fp, format, **params)\u001b[0m\n\u001b[0;32m   2428\u001b[0m         fp \u001b[38;5;241m=\u001b[39m builtins\u001b[38;5;241m.\u001b[39mopen(filename, \u001b[38;5;124m\"\u001b[39m\u001b[38;5;124mw+b\u001b[39m\u001b[38;5;124m\"\u001b[39m)\n\u001b[0;32m   2430\u001b[0m \u001b[38;5;28;01mtry\u001b[39;00m:\n\u001b[1;32m-> 2431\u001b[0m     \u001b[43msave_handler\u001b[49m\u001b[43m(\u001b[49m\u001b[38;5;28;43mself\u001b[39;49m\u001b[43m,\u001b[49m\u001b[43m \u001b[49m\u001b[43mfp\u001b[49m\u001b[43m,\u001b[49m\u001b[43m \u001b[49m\u001b[43mfilename\u001b[49m\u001b[43m)\u001b[49m\n\u001b[0;32m   2432\u001b[0m \u001b[38;5;28;01mexcept\u001b[39;00m \u001b[38;5;167;01mException\u001b[39;00m:\n\u001b[0;32m   2433\u001b[0m     \u001b[38;5;28;01mif\u001b[39;00m open_fp:\n",
      "File \u001b[1;32m~\\AppData\\Roaming\\Python\\Python38\\site-packages\\PIL\\JpegImagePlugin.py:806\u001b[0m, in \u001b[0;36m_save\u001b[1;34m(im, fp, filename)\u001b[0m\n\u001b[0;32m    802\u001b[0m \u001b[38;5;66;03m# The EXIF info needs to be written as one block, + APP1, + one spare byte.\u001b[39;00m\n\u001b[0;32m    803\u001b[0m \u001b[38;5;66;03m# Ensure that our buffer is big enough. Same with the icc_profile block.\u001b[39;00m\n\u001b[0;32m    804\u001b[0m bufsize \u001b[38;5;241m=\u001b[39m \u001b[38;5;28mmax\u001b[39m(ImageFile\u001b[38;5;241m.\u001b[39mMAXBLOCK, bufsize, \u001b[38;5;28mlen\u001b[39m(exif) \u001b[38;5;241m+\u001b[39m \u001b[38;5;241m5\u001b[39m, \u001b[38;5;28mlen\u001b[39m(extra) \u001b[38;5;241m+\u001b[39m \u001b[38;5;241m1\u001b[39m)\n\u001b[1;32m--> 806\u001b[0m \u001b[43mImageFile\u001b[49m\u001b[38;5;241;43m.\u001b[39;49m\u001b[43m_save\u001b[49m\u001b[43m(\u001b[49m\u001b[43mim\u001b[49m\u001b[43m,\u001b[49m\u001b[43m \u001b[49m\u001b[43mfp\u001b[49m\u001b[43m,\u001b[49m\u001b[43m \u001b[49m\u001b[43m[\u001b[49m\u001b[43m(\u001b[49m\u001b[38;5;124;43m\"\u001b[39;49m\u001b[38;5;124;43mjpeg\u001b[39;49m\u001b[38;5;124;43m\"\u001b[39;49m\u001b[43m,\u001b[49m\u001b[43m \u001b[49m\u001b[43m(\u001b[49m\u001b[38;5;241;43m0\u001b[39;49m\u001b[43m,\u001b[49m\u001b[43m \u001b[49m\u001b[38;5;241;43m0\u001b[39;49m\u001b[43m)\u001b[49m\u001b[43m \u001b[49m\u001b[38;5;241;43m+\u001b[39;49m\u001b[43m \u001b[49m\u001b[43mim\u001b[49m\u001b[38;5;241;43m.\u001b[39;49m\u001b[43msize\u001b[49m\u001b[43m,\u001b[49m\u001b[43m \u001b[49m\u001b[38;5;241;43m0\u001b[39;49m\u001b[43m,\u001b[49m\u001b[43m \u001b[49m\u001b[43mrawmode\u001b[49m\u001b[43m)\u001b[49m\u001b[43m]\u001b[49m\u001b[43m,\u001b[49m\u001b[43m \u001b[49m\u001b[43mbufsize\u001b[49m\u001b[43m)\u001b[49m\n",
      "File \u001b[1;32m~\\AppData\\Roaming\\Python\\Python38\\site-packages\\PIL\\ImageFile.py:520\u001b[0m, in \u001b[0;36m_save\u001b[1;34m(im, fp, tile, bufsize)\u001b[0m\n\u001b[0;32m    518\u001b[0m     fh \u001b[38;5;241m=\u001b[39m fp\u001b[38;5;241m.\u001b[39mfileno()\n\u001b[0;32m    519\u001b[0m     fp\u001b[38;5;241m.\u001b[39mflush()\n\u001b[1;32m--> 520\u001b[0m     \u001b[43m_encode_tile\u001b[49m\u001b[43m(\u001b[49m\u001b[43mim\u001b[49m\u001b[43m,\u001b[49m\u001b[43m \u001b[49m\u001b[43mfp\u001b[49m\u001b[43m,\u001b[49m\u001b[43m \u001b[49m\u001b[43mtile\u001b[49m\u001b[43m,\u001b[49m\u001b[43m \u001b[49m\u001b[43mbufsize\u001b[49m\u001b[43m,\u001b[49m\u001b[43m \u001b[49m\u001b[43mfh\u001b[49m\u001b[43m)\u001b[49m\n\u001b[0;32m    521\u001b[0m \u001b[38;5;28;01mexcept\u001b[39;00m (\u001b[38;5;167;01mAttributeError\u001b[39;00m, io\u001b[38;5;241m.\u001b[39mUnsupportedOperation) \u001b[38;5;28;01mas\u001b[39;00m exc:\n\u001b[0;32m    522\u001b[0m     _encode_tile(im, fp, tile, bufsize, \u001b[38;5;28;01mNone\u001b[39;00m, exc)\n",
      "File \u001b[1;32m~\\AppData\\Roaming\\Python\\Python38\\site-packages\\PIL\\ImageFile.py:547\u001b[0m, in \u001b[0;36m_encode_tile\u001b[1;34m(im, fp, tile, bufsize, fh, exc)\u001b[0m\n\u001b[0;32m    544\u001b[0m                 \u001b[38;5;28;01mbreak\u001b[39;00m\n\u001b[0;32m    545\u001b[0m     \u001b[38;5;28;01melse\u001b[39;00m:\n\u001b[0;32m    546\u001b[0m         \u001b[38;5;66;03m# slight speedup: compress to real file object\u001b[39;00m\n\u001b[1;32m--> 547\u001b[0m         s \u001b[38;5;241m=\u001b[39m \u001b[43mencoder\u001b[49m\u001b[38;5;241;43m.\u001b[39;49m\u001b[43mencode_to_file\u001b[49m\u001b[43m(\u001b[49m\u001b[43mfh\u001b[49m\u001b[43m,\u001b[49m\u001b[43m \u001b[49m\u001b[43mbufsize\u001b[49m\u001b[43m)\u001b[49m\n\u001b[0;32m    548\u001b[0m \u001b[38;5;28;01mif\u001b[39;00m s \u001b[38;5;241m<\u001b[39m \u001b[38;5;241m0\u001b[39m:\n\u001b[0;32m    549\u001b[0m     msg \u001b[38;5;241m=\u001b[39m \u001b[38;5;124mf\u001b[39m\u001b[38;5;124m\"\u001b[39m\u001b[38;5;124mencoder error \u001b[39m\u001b[38;5;132;01m{\u001b[39;00ms\u001b[38;5;132;01m}\u001b[39;00m\u001b[38;5;124m when writing image file\u001b[39m\u001b[38;5;124m\"\u001b[39m\n",
      "\u001b[1;31mOSError\u001b[0m: [Errno 28] No space left on device"
     ]
    }
   ],
   "source": [
    "input('do you have two tabs open and the third tab is free?')\n",
    "start = time.time()\n",
    "\n",
    "### Adding i to the end of the school name and increasing by one so if have duplicate school names the \n",
    "### images are not overriden when saved\n",
    "i=0\n",
    "for file in small_data:\n",
    "    ### Open the html file in the browser\n",
    "    webbrowser.open('file://' + file)\n",
    "    ### Wait 2.5 seconds so that the html can load fully\n",
    "    time.sleep(9)\n",
    "    myScreenshot = pyautogui.screenshot(region=(20,150,1890,755))\n",
    "\n",
    "    school_name = file.split('\\\\')[-1].split('.')[0]\n",
    "    myScreenshot.save(r\"C:\\\\Users\\\\lvden\\\\OneDrive - Montana State University\\\\Desktop\\\\DeepLearning\\\\final_project\\\\img_data-20231201T222346Z-001\\\\img_data_screenshots\\\\small\\\\\" + school_name + format(i)+ '.jpg')\n",
    "\n",
    "    ### Move mouse to close the tab that was opened for the html file\n",
    "    pyautogui.moveTo(x=822, y=40)\n",
    "    pyautogui.click()\n",
    "    i+=1\n",
    "    \n",
    "i=0\n",
    "for file in large_data:\n",
    "    ### Open the html file in the browser\n",
    "    webbrowser.open('file://' + file)\n",
    "    ### Wait 2.5 seconds so that the html can load fully\n",
    "    time.sleep(9)\n",
    "    myScreenshot = pyautogui.screenshot(region=(20,150,1890,755))\n",
    "\n",
    "    school_name = file.split('\\\\')[-1].split('.')[0]\n",
    "    myScreenshot.save(r\"C:\\\\Users\\\\lvden\\\\OneDrive - Montana State University\\\\Desktop\\\\DeepLearning\\\\final_project\\\\img_data-20231201T222346Z-001\\\\img_data_screenshots\\\\large\\\\\" + school_name + format(i) +'.jpg')\n",
    "\n",
    "    ### Move mouse to close the tab that was opened for the html file\n",
    "    pyautogui.moveTo(x=822, y=40)\n",
    "    pyautogui.click()\n",
    "    \n",
    "end = time.time()\n",
    "\n",
    "print(f'''The loop took {(end-start)/60} minutes to complete {len(large_data) + len(small_data)} total images''')"
   ]
  },
  {
   "cell_type": "markdown",
   "id": "5dced08e",
   "metadata": {
    "ExecuteTime": {
     "end_time": "2023-12-04T22:11:29.612648Z",
     "start_time": "2023-12-04T22:11:29.599651Z"
    }
   },
   "source": [
    "This function takes 9.35 minutes per 200 images with 2.5 second sleep which equates to 0.04675 minutes per image"
   ]
  },
  {
   "cell_type": "code",
   "execution_count": 23,
   "id": "569e23b0",
   "metadata": {
    "ExecuteTime": {
     "end_time": "2023-12-05T01:35:46.911390Z",
     "start_time": "2023-12-05T01:35:46.906387Z"
    }
   },
   "outputs": [],
   "source": [
    "### Pickle the images and send it "
   ]
  },
  {
   "cell_type": "code",
   "execution_count": null,
   "id": "80b99706",
   "metadata": {},
   "outputs": [],
   "source": []
  },
  {
   "cell_type": "code",
   "execution_count": null,
   "id": "9d80eba2",
   "metadata": {},
   "outputs": [],
   "source": []
  },
  {
   "cell_type": "markdown",
   "id": "2b466562",
   "metadata": {},
   "source": [
    "# Only needing to run the large photo collection"
   ]
  },
  {
   "cell_type": "code",
   "execution_count": 10,
   "id": "6b273960",
   "metadata": {
    "ExecuteTime": {
     "end_time": "2023-12-06T18:04:09.065543Z",
     "start_time": "2023-12-06T15:28:27.659846Z"
    }
   },
   "outputs": [],
   "source": [
    "i=0\n",
    "for file in large_data:\n",
    "    ### Open the html file in the browser\n",
    "    webbrowser.open('file://' + file)\n",
    "    ### Wait 2.5 seconds so that the html can load fully\n",
    "    time.sleep(7)\n",
    "    myScreenshot = pyautogui.screenshot(region=(20,150,1890,755))\n",
    "\n",
    "    school_name = file.split('\\\\')[-1].split('.')[0]\n",
    "    myScreenshot.save(r\"C:\\\\Users\\\\lvden\\\\OneDrive - Montana State University\\\\Desktop\\\\DeepLearning\\\\final_project\\\\img_data-20231201T222346Z-001\\\\img_data_screenshots\\\\large\\\\\" + school_name + format(i) +'.jpg')\n",
    "\n",
    "    ### Move mouse to close the tab that was opened for the html file\n",
    "    pyautogui.moveTo(x=822, y=40)\n",
    "    pyautogui.click()"
   ]
  },
  {
   "cell_type": "code",
   "execution_count": null,
   "id": "dc563803",
   "metadata": {},
   "outputs": [],
   "source": []
  },
  {
   "cell_type": "code",
   "execution_count": null,
   "id": "fc0ac8f8",
   "metadata": {},
   "outputs": [],
   "source": []
  },
  {
   "cell_type": "markdown",
   "id": "f759c034",
   "metadata": {},
   "source": [
    "# Opening the html and then taking a screenshot TESTING"
   ]
  },
  {
   "cell_type": "code",
   "execution_count": 16,
   "id": "8f688db3",
   "metadata": {
    "ExecuteTime": {
     "end_time": "2023-12-04T20:29:23.738689Z",
     "start_time": "2023-12-04T20:29:23.600708Z"
    }
   },
   "outputs": [
    {
     "data": {
      "text/plain": [
       "True"
      ]
     },
     "execution_count": 16,
     "metadata": {},
     "output_type": "execute_result"
    }
   ],
   "source": [
    "webbrowser.open('file://' + small_data[0])"
   ]
  },
  {
   "cell_type": "code",
   "execution_count": 15,
   "id": "d219ed36",
   "metadata": {
    "ExecuteTime": {
     "end_time": "2023-12-04T20:27:32.698874Z",
     "start_time": "2023-12-04T20:27:32.686876Z"
    }
   },
   "outputs": [
    {
     "data": {
      "text/plain": [
       "'C:\\\\Users\\\\lvden\\\\OneDrive - Montana State University\\\\Desktop\\\\DeepLearning\\\\final_project\\\\img_data-20231201T222346Z-001\\\\img_data\\\\small\\\\small__BURBANK UNIFIED INDEPENDENT LEARNING ACADEMY (BUILA).html'"
      ]
     },
     "execution_count": 15,
     "metadata": {},
     "output_type": "execute_result"
    }
   ],
   "source": [
    "small_data[0]"
   ]
  },
  {
   "cell_type": "code",
   "execution_count": 22,
   "id": "19a526d0",
   "metadata": {
    "ExecuteTime": {
     "end_time": "2023-12-04T20:35:00.492239Z",
     "start_time": "2023-12-04T20:35:00.478729Z"
    }
   },
   "outputs": [
    {
     "data": {
      "text/plain": [
       "'small__BURBANK UNIFIED INDEPENDENT LEARNING ACADEMY (BUILA)'"
      ]
     },
     "execution_count": 22,
     "metadata": {},
     "output_type": "execute_result"
    }
   ],
   "source": [
    "small_data[0].split('\\\\')[-1].split('.')[0]"
   ]
  },
  {
   "cell_type": "code",
   "execution_count": 39,
   "id": "e3662cea",
   "metadata": {
    "ExecuteTime": {
     "end_time": "2023-12-04T20:51:18.609219Z",
     "start_time": "2023-12-04T20:51:13.507379Z"
    }
   },
   "outputs": [],
   "source": [
    "webbrowser.open('file://' + small_data[0])\n",
    "time.sleep(5)\n",
    "myScreenshot = pyautogui.screenshot(region=(20,150,1890,755))\n",
    "\n",
    "school_name = small_data[0].split('\\\\')[-1].split('.')[0]\n",
    "myScreenshot.save(r\"C:\\\\Users\\\\lvden\\\\OneDrive - Montana State University\\\\Desktop\\\\DeepLearning\\\\final_project\\\\img_data-20231201T222346Z-001\\\\img_data_screenshots\\\\\" + school_name + '.jpg')\n"
   ]
  },
  {
   "cell_type": "code",
   "execution_count": null,
   "id": "42e578b1",
   "metadata": {},
   "outputs": [],
   "source": []
  },
  {
   "cell_type": "code",
   "execution_count": null,
   "id": "81346c9b",
   "metadata": {},
   "outputs": [],
   "source": []
  },
  {
   "cell_type": "code",
   "execution_count": null,
   "id": "07cdc8c1",
   "metadata": {},
   "outputs": [],
   "source": []
  },
  {
   "cell_type": "code",
   "execution_count": null,
   "id": "b848ac8b",
   "metadata": {},
   "outputs": [],
   "source": []
  },
  {
   "cell_type": "code",
   "execution_count": null,
   "id": "98a6ed96",
   "metadata": {},
   "outputs": [],
   "source": []
  },
  {
   "cell_type": "code",
   "execution_count": null,
   "id": "65d78cbc",
   "metadata": {},
   "outputs": [],
   "source": []
  },
  {
   "cell_type": "markdown",
   "id": "2629bcdf",
   "metadata": {},
   "source": [
    "# Junkyard"
   ]
  },
  {
   "cell_type": "markdown",
   "id": "a9cc498a",
   "metadata": {},
   "source": [
    "### Selenium attempt\n",
    "- Failed because need web drivers that either no longer work or need to download entire new web version"
   ]
  },
  {
   "cell_type": "code",
   "execution_count": 7,
   "id": "7e47cf83",
   "metadata": {
    "ExecuteTime": {
     "end_time": "2023-12-04T20:16:10.750882Z",
     "start_time": "2023-12-04T20:16:10.693603Z"
    }
   },
   "outputs": [],
   "source": [
    "from selenium import webdriver"
   ]
  },
  {
   "cell_type": "code",
   "execution_count": 8,
   "id": "942bbda7",
   "metadata": {
    "ExecuteTime": {
     "end_time": "2023-12-04T20:16:17.318404Z",
     "start_time": "2023-12-04T20:16:17.311402Z"
    }
   },
   "outputs": [],
   "source": [
    "DRIVER = 'chromedriver'"
   ]
  },
  {
   "cell_type": "code",
   "execution_count": 10,
   "id": "d500225b",
   "metadata": {
    "ExecuteTime": {
     "end_time": "2023-12-04T20:24:58.735578Z",
     "start_time": "2023-12-04T20:24:58.721577Z"
    }
   },
   "outputs": [],
   "source": [
    "### Need to download chrome driver, which involves downgrading chrome\n",
    "# driver = webdriver.Chrome(DRIVER)"
   ]
  }
 ],
 "metadata": {
  "kernelspec": {
   "display_name": "Python 3 (ipykernel)",
   "language": "python",
   "name": "python3"
  },
  "language_info": {
   "codemirror_mode": {
    "name": "ipython",
    "version": 3
   },
   "file_extension": ".py",
   "mimetype": "text/x-python",
   "name": "python",
   "nbconvert_exporter": "python",
   "pygments_lexer": "ipython3",
   "version": "3.8.16"
  },
  "toc": {
   "base_numbering": 1,
   "nav_menu": {},
   "number_sections": true,
   "sideBar": true,
   "skip_h1_title": false,
   "title_cell": "Table of Contents",
   "title_sidebar": "Contents",
   "toc_cell": false,
   "toc_position": {},
   "toc_section_display": true,
   "toc_window_display": false
  }
 },
 "nbformat": 4,
 "nbformat_minor": 5
}
